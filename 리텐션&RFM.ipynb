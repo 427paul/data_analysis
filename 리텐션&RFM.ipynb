{
  "nbformat": 4,
  "nbformat_minor": 0,
  "metadata": {
    "colab": {
      "provenance": []
    },
    "kernelspec": {
      "name": "python3",
      "display_name": "Python 3"
    },
    "language_info": {
      "name": "python"
    }
  },
  "cells": [
    {
      "cell_type": "code",
      "execution_count": null,
      "metadata": {
        "id": "nudrbLmlHl22"
      },
      "outputs": [],
      "source": [
        "import pandas as pd\n",
        "import plotly.express as px"
      ]
    },
    {
      "cell_type": "code",
      "source": [
        "from google.colab import files\n",
        "uploaded = files.upload()"
      ],
      "metadata": {
        "id": "UYSqMMd8IhT-"
      },
      "execution_count": null,
      "outputs": []
    },
    {
      "cell_type": "code",
      "source": [
        "file = open('ecommerce_data.csv')\n",
        "data = pd.read_csv(file, encoding='cp949')\n",
        "data.head()"
      ],
      "metadata": {
        "id": "UXdJYjfRIuyA"
      },
      "execution_count": null,
      "outputs": []
    },
    {
      "cell_type": "markdown",
      "source": [
        "- InvoiceNo: 영수증번호\n",
        "- StockCode: 상품번호\n",
        "- Description: 상품명\n",
        "- Quantity: 판매수량\n",
        "- InvoiceDate: 결제날짜\n",
        "- UnitPrice: 개당 가격\n",
        "- CustomerID: 고객번호\n",
        "- Country: 나라"
      ],
      "metadata": {
        "id": "1mzhUEn5JkGm"
      }
    },
    {
      "cell_type": "markdown",
      "source": [
        "#시간의 흐름에 따라 매출, 주문고객수, 주문단가의 추이는 어떻게 달라지는가?\n",
        "#리텐션 분석 : 시간의 흐름에 따라 고객들은 얼마나 남고 얼마나 이탈했는가?\n",
        "##- 시간에 따른 유저의 이탈과 잔존 분석\n",
        "#RFM 분석 : 고객의 행동에 따라 고객을 유형화\n",
        "##- Recency(최근성) : 고객이 얼마나 최근에 구매를 했는가\n",
        "##- Frequency(빈도) : 고객이 얼마나 자주 구매를 했는가\n",
        "##- Monetary(금액) : 구객이 구매한 총 금액"
      ],
      "metadata": {
        "id": "RgxzL1ufJolF"
      }
    },
    {
      "cell_type": "code",
      "source": [
        "data.info()"
      ],
      "metadata": {
        "id": "5-MofhRKJhDy"
      },
      "execution_count": null,
      "outputs": []
    },
    {
      "cell_type": "code",
      "source": [
        "data.dropna(subset=['CustomerID'], inplace=True)\n",
        "data.info()"
      ],
      "metadata": {
        "id": "cyWEGsewLpj8"
      },
      "execution_count": null,
      "outputs": []
    },
    {
      "cell_type": "code",
      "source": [
        "data['InvoiceDate'] = pd.to_datetime(data['InvoiceDate'], format = '%m/%d/%Y %H:%M')\n",
        "data['CustomerID'] = data['CustomerID'].astype(int).astype(str)\n",
        "data.info()"
      ],
      "metadata": {
        "id": "sOf6enGWL2Af"
      },
      "execution_count": null,
      "outputs": []
    },
    {
      "cell_type": "code",
      "source": [
        "data.head()"
      ],
      "metadata": {
        "id": "rPNxngnwMiAn"
      },
      "execution_count": null,
      "outputs": []
    },
    {
      "cell_type": "code",
      "source": [
        "data['date_ymd'] = data['InvoiceDate'].dt.date.astype('datetime64[ns]')\n",
        "data['year'] = data['InvoiceDate'].dt.year\n",
        "data.head()"
      ],
      "metadata": {
        "id": "gmryZ6-WNAwQ"
      },
      "execution_count": null,
      "outputs": []
    },
    {
      "cell_type": "code",
      "source": [
        "# 매출 칼럼\n",
        "data['amount'] = data['Quantity'] * data['UnitPrice']\n",
        "data.info()"
      ],
      "metadata": {
        "id": "YlxSmw4YNOZ1"
      },
      "execution_count": null,
      "outputs": []
    },
    {
      "cell_type": "code",
      "source": [
        "data.query('Quantity < 0')\n",
        "#주문 취소의 경우"
      ],
      "metadata": {
        "id": "WX7SGrQuN4kx"
      },
      "execution_count": null,
      "outputs": []
    },
    {
      "cell_type": "code",
      "source": [
        "#주문 취소한 데이터 제외하기\n",
        "data = data.query('Quantity > 0')"
      ],
      "metadata": {
        "id": "jDKMsu4uNtR5"
      },
      "execution_count": null,
      "outputs": []
    },
    {
      "cell_type": "code",
      "source": [
        "data.info()"
      ],
      "metadata": {
        "id": "lqSD7xvDN2Sy"
      },
      "execution_count": null,
      "outputs": []
    },
    {
      "cell_type": "code",
      "source": [
        "#시간의 흐름에 따라 매출의 추이는 어떻게 달리지는가\n",
        "#매출\n",
        "amount_by_date = data.groupby('date_ymd')[['amount']].sum().reset_index()\n",
        "fig = px.line(data_frame=amount_by_date, x = 'date_ymd',y = 'amount')\n",
        "fig.show()"
      ],
      "metadata": {
        "id": "GfmefJajOLvH"
      },
      "execution_count": null,
      "outputs": []
    },
    {
      "cell_type": "code",
      "source": [
        "#주문 고객수\n",
        "customer_count_by_date = data.groupby('date_ymd')[['CustomerID']].nunique().reset_index().rename({\"CustomerID\":\"customer_count\"}, axis = 1)\n",
        "fig = px.line(data_frame = customer_count_by_date, x = 'date_ymd', y= 'customer_count')\n",
        "fig.show()\n",
        "#주문 고객수 우상향"
      ],
      "metadata": {
        "id": "RgHUkgXrOnp-"
      },
      "execution_count": null,
      "outputs": []
    },
    {
      "cell_type": "code",
      "source": [
        "#주문단가 = 총매출 / 주문건수\n",
        "#주문 건수\n",
        "invoice_count_by_date = data.groupby('date_ymd')[['InvoiceNo']].nunique().reset_index().rename({'InvoiceNo':'invoice_count'}, axis = 1)\n",
        "invoice_count_by_date.head()"
      ],
      "metadata": {
        "id": "L-Y_pwe5PKmb"
      },
      "execution_count": null,
      "outputs": []
    },
    {
      "cell_type": "code",
      "source": [
        "invoice_amount = pd.merge(amount_by_date, invoice_count_by_date, on='date_ymd')\n",
        "invoice_amount['amount_per_invoice'] = invoice_amount['amount'] / invoice_amount['invoice_count']\n",
        "invoice_amount.head()"
      ],
      "metadata": {
        "id": "SV6Fy36RQ-SF"
      },
      "execution_count": null,
      "outputs": []
    },
    {
      "cell_type": "code",
      "source": [
        "fig = px.line(data_frame=invoice_amount, x = 'date_ymd', y= 'amount_per_invoice')\n",
        "fig.show()\n",
        "#주문단가는 비교적 일정하게 유지되다가 일정한 날 주문 단가가 높았던 상품이 있었던 것으로 확인"
      ],
      "metadata": {
        "id": "BISUvNTSRchT"
      },
      "execution_count": null,
      "outputs": []
    },
    {
      "cell_type": "code",
      "source": [
        "#시간의 흐름에 따라 고객들의 잔존과 이탈 분석\n",
        "#연월 단위로 고객번호, 영수증 번호 전처리\n",
        "retention_base = data[['CustomerID', 'InvoiceNo','date_ymd']].drop_duplicates()#겹치지 않게 빼오기\n",
        "retention_base['date_ym'] = retention_base['date_ymd'].dt.to_period('M')#연월 칼럼\n",
        "retention_base.head()"
      ],
      "metadata": {
        "id": "774eiJqqR0ma"
      },
      "execution_count": null,
      "outputs": []
    },
    {
      "cell_type": "code",
      "source": [
        "print(min(data['date_ymd'].unique()))\n",
        "print(max(data['date_ymd'].unique()))\n",
        "#2011 12월 데이터를 포함하면 11월 리텐션이 낮아질 수 밖에 없다\n",
        "#따라서 2011 12월 데이터는 제외"
      ],
      "metadata": {
        "id": "TNPLpdweS8g7"
      },
      "execution_count": null,
      "outputs": []
    },
    {
      "cell_type": "code",
      "source": [
        "retention_base = retention_base.query('date_ymd <= \"2011-11-30\"')"
      ],
      "metadata": {
        "id": "e7qt445CTUQU"
      },
      "execution_count": null,
      "outputs": []
    },
    {
      "cell_type": "code",
      "source": [
        "date_ym_list = sorted(list(retention_base['date_ym'].unique()))"
      ],
      "metadata": {
        "id": "tS8nNzxmT6hu"
      },
      "execution_count": null,
      "outputs": []
    },
    {
      "cell_type": "code",
      "source": [
        "from tqdm.notebook import tqdm"
      ],
      "metadata": {
        "id": "lODxftjkUAaB"
      },
      "execution_count": null,
      "outputs": []
    },
    {
      "cell_type": "code",
      "source": [
        "retention = pd.DataFrame()\n",
        "for s in tqdm(date_ym_list):\n",
        "    for t in date_ym_list:\n",
        "        period_start = s\n",
        "        period_target = t\n",
        "\n",
        "        if period_start <= period_target:\n",
        "            period_start_users = set(retention_base.query('date_ym == @period_start')['CustomerID'])\n",
        "            period_target_users = set(retention_base.query('date_ym == @period_target')['CustomerID'])\n",
        "\n",
        "            retained_users = period_start_users.intersection(period_target_users)\n",
        "\n",
        "            retention_rate = len(retained_users) / len(period_start_users)\n",
        "\n",
        "            temp = pd.DataFrame({'cohort':[period_start], 'date_ym':[period_target], 'retention_rate':[retention_rate]})\n",
        "\n",
        "            retention = pd.concat([retention, temp])"
      ],
      "metadata": {
        "id": "8Qqu6dHdUEab"
      },
      "execution_count": null,
      "outputs": []
    },
    {
      "cell_type": "code",
      "source": [
        "retention['cohort_size(month)'] = retention.apply(lambda x : (x['date_ym'] - x['cohort']).n, axis = 1)\n",
        "retention.head()"
      ],
      "metadata": {
        "id": "N9ZDLw8hUL0_"
      },
      "execution_count": null,
      "outputs": []
    },
    {
      "cell_type": "code",
      "source": [
        "retention['cohort'] = retention['cohort'].astype(str)\n",
        "retention['date_ym'] = retention['date_ym'].astype(str)"
      ],
      "metadata": {
        "id": "s9J7tq6nb0fB"
      },
      "execution_count": null,
      "outputs": []
    },
    {
      "cell_type": "code",
      "source": [
        "retention_final = pd.pivot_table(data=retention, index='cohort', columns='cohort_size(month)', values='retention_rate')\n",
        "retention_final"
      ],
      "metadata": {
        "id": "JTSnDnOob3k5"
      },
      "execution_count": null,
      "outputs": []
    },
    {
      "cell_type": "code",
      "source": [
        "fig = px.imshow(retention_final, text_auto='.2%', color_continuous_scale='Burg')\n",
        "fig.show()\n",
        "#최근일수록 retention 비율이 높다\n",
        "#대각선으로 보면 2011년 11월 유저들이 많이 복귀함\n",
        "#2011년 9월에도 많이 복귀함"
      ],
      "metadata": {
        "id": "6uwt829Hb7zj"
      },
      "execution_count": null,
      "outputs": []
    },
    {
      "cell_type": "code",
      "source": [
        "retention_curve = retention.groupby('cohort_size(month)')[['retention_rate']].mean().reset_index()\n",
        "retention_curve"
      ],
      "metadata": {
        "id": "dkRor6-Feb4R"
      },
      "execution_count": null,
      "outputs": []
    },
    {
      "cell_type": "code",
      "source": [
        "fig = px.line(data_frame = retention_curve, x='cohort_size(month)', y='retention_rate', title='리텐션 커브')\n",
        "fig.update_yaxes(tickformat='.2%')\n",
        "fig.show()\n",
        "#기간동안의 cohort_size에 따른 리텐션 커브의 평균을 확인\n",
        "#retention이 cohort_size가 커지면 내겨라기 마련인데 유지하다가 최근에 오히려 높아진 것을 확인"
      ],
      "metadata": {
        "id": "AGtlN-j2fEe3"
      },
      "execution_count": null,
      "outputs": []
    },
    {
      "cell_type": "code",
      "source": [
        "#RFM : 고객의 행동에 따른 고객 유형화\n",
        "#데이터가 1년치밖에서 없어서 RM분석 진행\n",
        "data.head()"
      ],
      "metadata": {
        "id": "7G5JczOzfGkv"
      },
      "execution_count": null,
      "outputs": []
    },
    {
      "cell_type": "code",
      "source": [
        "today_date = max(data['date_ymd'])\n",
        "\n",
        "rfm = data.groupby('CustomerID').agg({'InvoiceDate': lambda x: (today_date - x.max()).days, #오늘로부터 며칠이 지났는지\n",
        "                                    'amount': lambda x: x.sum()}) #주문금액\n",
        "\n",
        "rfm.columns = ['recency', 'monetary']\n",
        "rfm.head()"
      ],
      "metadata": {
        "id": "mz_8EtGChgEs"
      },
      "execution_count": null,
      "outputs": []
    },
    {
      "cell_type": "code",
      "source": [
        "#각 팩터를 5등급으로 나눠 등급을 매김\n",
        "pd.qcut(rfm[\"recency\"], 5, labels=[5, 4, 3, 2, 1])"
      ],
      "metadata": {
        "id": "zHtg1MXvhpU0"
      },
      "execution_count": null,
      "outputs": []
    },
    {
      "cell_type": "code",
      "source": [
        "rfm['recency_score'] = pd.qcut(rfm[\"recency\"], 3, labels=[3, 2, 1])\n",
        "rfm['monetary_score'] = pd.qcut(rfm[\"monetary\"], 3, labels=[1, 2, 3])\n",
        "rfm['rm_score'] = rfm['recency_score'].astype(str) + rfm['monetary_score'].astype(str)\n",
        "rfm.reset_index(inplace=True)\n",
        "rfm"
      ],
      "metadata": {
        "id": "GljlmdqviB_p"
      },
      "execution_count": null,
      "outputs": []
    },
    {
      "cell_type": "code",
      "source": [
        "rm_score = rfm.groupby('rm_score')[['CustomerID']].nunique().reset_index().rename({'CustomerID':'customer_count'}, axis=1)\n",
        "rm_score"
      ],
      "metadata": {
        "id": "O-5XIm-oikXI"
      },
      "execution_count": null,
      "outputs": []
    },
    {
      "cell_type": "code",
      "source": [
        "def categorize_customer(score):\n",
        "    if score == '33':\n",
        "        return '최우수' #최신성, 구매 모두 상당히 높음\n",
        "    elif score in ['32','23','22']:\n",
        "        return '우수' #최신성, 구매 모두 높음\n",
        "    elif score =='11':\n",
        "        return '휴면' #최신성, 구매 모두 낮음\n",
        "    elif score in ['12','13']:\n",
        "        return '이탈 방지' #구매는 높으나 최신성은 낮음 -> 다시 불러들어야 함\n",
        "    elif score in ['31','21']:\n",
        "        return '구매 유도' #최신성은 높으나 구매는 낮음 -> 구매를 유도해야 함\n",
        "\n",
        "rm_score['category'] = rm_score['rm_score'].apply(categorize_customer)"
      ],
      "metadata": {
        "id": "twZhhjnnio8k"
      },
      "execution_count": null,
      "outputs": []
    },
    {
      "cell_type": "code",
      "source": [
        "fig = px.treemap(data_frame = rm_score, path=['category'], values='customer_count', color_discrete_sequence=px.colors.qualitative.Pastel1)\n",
        "fig.show()"
      ],
      "metadata": {
        "id": "HMrWT4b6i6us"
      },
      "execution_count": null,
      "outputs": []
    },
    {
      "cell_type": "markdown",
      "source": [
        "[1] 시간의 흐름에 따라 매출, 주문고객수, 주문단가의 추이는 어떻게 달라지는가?\n",
        "- 매출과 주문고객수는 우상향, 주문단가는 유지"
      ],
      "metadata": {
        "id": "zkBzGRw8rpV_"
      }
    },
    {
      "cell_type": "markdown",
      "source": [
        "[2] 리텐션 분석\n",
        "- Month1 리텐션이 최근으로 오며 상승 중\n",
        "- 2011-11월에 고객 재방문이 늘었다."
      ],
      "metadata": {
        "id": "iXnji-7srp5-"
      }
    },
    {
      "cell_type": "markdown",
      "source": [
        "[3] RFM 분석\n",
        "- '최우수' #최신성, 구매 모두 상당히 높음\n",
        "- '우수' #최신성, 구매 모두 높음\n",
        "- '휴면' #최신성, 구매 모두 낮음\n",
        "- '이탈 방지' #구매는 높으나 최신성은 낮음 -> 다시 불러들어야 함\n",
        "- '구매 유도' #최신성은 높으나 구매는 낮음 -> 구매를 유도해야 함"
      ],
      "metadata": {
        "id": "IBhfjXRnjEmQ"
      }
    },
    {
      "cell_type": "code",
      "source": [],
      "metadata": {
        "id": "svEJBpppi9vn"
      },
      "execution_count": null,
      "outputs": []
    }
  ]
}